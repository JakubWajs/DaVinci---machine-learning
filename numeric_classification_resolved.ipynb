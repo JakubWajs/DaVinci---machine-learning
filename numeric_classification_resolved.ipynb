{
 "cells": [
  {
   "cell_type": "code",
   "execution_count": 1,
   "outputs": [],
   "source": [
    "import numpy as np\n",
    "import pandas as pd\n",
    "import seaborn as sns\n",
    "import matplotlib.pyplot as plt\n",
    "from sklearn import linear_model, metrics, svm, ensemble, tree\n",
    "from sklearn.model_selection import train_test_split\n",
    "from sklearn.neural_network import MLPClassifier\n",
    "\n",
    "\n",
    "class Dataset:\n",
    "    def __init__(self, dataset_pd):\n",
    "        dataset_pd.drop(['jobId', 'companyId',\n",
    "                         'milesFromMetropolis', 'degree',\n",
    "                         'major', 'industry'],\n",
    "                        axis=1, inplace=True)\n",
    "\n",
    "        # Normalizacja tekstu\n",
    "        dataset_pd.loc[dataset_pd['jobType'] == 'CEO', 'jobType'] = 0\n",
    "        dataset_pd.loc[dataset_pd['jobType'] == 'CFO', 'jobType'] = 1\n",
    "        dataset_pd.loc[dataset_pd['jobType'] == 'CTO', 'jobType'] = 2\n",
    "        dataset_pd.loc[dataset_pd['jobType'] == 'VICE_PRESIDENT', 'jobType'] = 3\n",
    "        dataset_pd.loc[dataset_pd['jobType'] == 'JUNIOR', 'jobType'] = 4\n",
    "        dataset_pd.loc[dataset_pd['jobType'] == 'SENIOR', 'jobType'] = 5\n",
    "        dataset_pd.loc[dataset_pd['jobType'] == 'JANITOR', 'jobType'] = 6\n",
    "        dataset_pd.loc[dataset_pd['jobType'] == 'MANAGER', 'jobType'] = 7\n",
    "\n",
    "        self.dataset_pd = dataset_pd\n",
    "\n",
    "    def __str__(self):\n",
    "        return self.dataset_pd.to_string(index=False, max_rows=5)\n",
    "\n",
    "    def data_statistic(self):\n",
    "        print('describe: \\n', self.dataset_pd.describe())\n",
    "        print('\\nInfo: \\n', self.dataset_pd.info())\n",
    "        print('\\nIs null: \\n', self.dataset_pd.isnull().values.any())\n",
    "\n",
    "    def data_histogram(self):\n",
    "        self.dataset_pd['salary'].hist()\n",
    "\n",
    "    def plot_data(self):\n",
    "        print('\\nrozkład danych:\\n')\n",
    "        self.dataset_pd['salary'].plot.box()\n",
    "\n",
    "    def plot_kde(self):\n",
    "        self.dataset_pd['salary'].plot.kde()\n",
    "\n",
    "\n",
    "class Correlation(Dataset):\n",
    "    def __init__(self, dataset_ins):\n",
    "        super().__init__(dataset_ins)\n",
    "        self.accuracy_compare = None\n",
    "        self.X = self.dataset_pd.drop('salary', axis=1).to_numpy()\n",
    "        self.y = np.where(self.dataset_pd['salary'] >= 100, 1, 0)\n",
    "        self.dataset_pd.fillna(self.dataset_pd.mean(), inplace=True)\n",
    "        self.X_train, self.X_test, self.y_train, self.y_test = train_test_split(self.X,\n",
    "                                                                                self.y,\n",
    "                                                                                test_size=0.2,\n",
    "                                                                                random_state=12345)\n",
    "\n",
    "    def matrix(self):\n",
    "        fig, ax = plt.subplots(figsize=(10, 10))\n",
    "        colormap = sns.color_palette(\"BrBG\", 10)\n",
    "\n",
    "        sns.heatmap(self.dataset_pd.corr(),\n",
    "                    cmap=colormap,\n",
    "                    annot=True,\n",
    "                    fmt=\".2f\")\n",
    "\n",
    "        ax.set_yticklabels(self.dataset_pd.columns)\n",
    "        plt.show()\n",
    "\n",
    "    def train(self, classifier):\n",
    "        classifier.fit(self.X_train, self.y_train)\n",
    "\n",
    "        predictions = classifier.predict(self.X_test)\n",
    "\n",
    "        scores = list(metrics.precision_recall_fscore_support(predictions, self.y_test))\n",
    "        score_vals = [scores[0][0],\n",
    "                      scores[1][0],\n",
    "                      scores[2][0],\n",
    "                      metrics.accuracy_score(predictions, self.y_test)]\n",
    "\n",
    "        return score_vals\n",
    "\n",
    "    def models(self):\n",
    "        # MODEL 1 - regresja logistyczna\n",
    "        accuracy = self.train(linear_model.LogisticRegression())\n",
    "        self.accuracy_compare = {'LR': accuracy}\n",
    "        print(\"LR: \", accuracy)\n",
    "\n",
    "        # MODEL 2 - Support Vector Machine\n",
    "        accuracy = self.train(svm.SVC())\n",
    "        self.accuracy_compare['SVM'] = accuracy\n",
    "        print(\"SVM\", accuracy)\n",
    "\n",
    "        # MODEL 3 - Random Forest Tree\n",
    "        accuracy = self.train(ensemble.RandomForestClassifier())\n",
    "        self.accuracy_compare['RF'] = accuracy\n",
    "        print(\"RF: \", accuracy)\n",
    "\n",
    "        # MODEL 4 - Decision Tree\n",
    "        accuracy = self.train(tree.DecisionTreeClassifier())\n",
    "        self.accuracy_compare['DT'] = accuracy\n",
    "        print(\"DT: \", accuracy)\n",
    "\n",
    "        # MODEL 5 - neural network\n",
    "        accuracy = self.train(MLPClassifier(hidden_layer_sizes=(10, 10, 10), max_iter=1000))\n",
    "        self.accuracy_compare['neural network'] = accuracy\n",
    "        print(\"neural network\", accuracy)\n",
    "\n",
    "        np.save('./accuracy', self.accuracy_compare)\n",
    "\n",
    "        # Porownywanie modeli\n",
    "        df_compare = pd.DataFrame(self.accuracy_compare,\n",
    "                                  index=['precision', 'recall', 'f1 score', 'accuracy'])\n",
    "        df_compare.plot(kind='bar')\n",
    "\n",
    "    def correcting(self):\n",
    "        # działania korygujące - hiperparametry\n",
    "\n",
    "        # MODEL 6 - Support Vector Machine\n",
    "        accuracy = self.train(svm.SVC(gamma='auto'))\n",
    "        self.accuracy_compare['SVM'] = accuracy\n",
    "        print(\"SVM gamma='auto'\", accuracy)\n",
    "\n",
    "        # MODEL 7 - Support Vector Machine\n",
    "        accuracy = self.train(svm.SVC(kernel='sigmoid'))\n",
    "        self.accuracy_compare['SVM'] = accuracy\n",
    "        print(\"SVM kernel='sigmoid'\", accuracy)\n",
    "\n",
    "        # MODEL 8 - Support Vector Machine\n",
    "        accuracy = self.train(svm.SVC(degree=4))\n",
    "        self.accuracy_compare['SVM'] = accuracy\n",
    "        print(\"SVM degree=4\", accuracy)"
   ],
   "metadata": {
    "collapsed": false,
    "pycharm": {
     "name": "#%%\n"
    }
   }
  },
  {
   "cell_type": "code",
   "execution_count": 2,
   "outputs": [
    {
     "name": "stdout",
     "output_type": "stream",
     "text": [
      " jobType  yearsExperience  salary\n",
      "       1               10     130\n",
      "       0                3     101\n",
      "     ...              ...     ...\n",
      "       2               12     113\n",
      "       4               19     125\n"
     ]
    },
    {
     "name": "stderr",
     "output_type": "stream",
     "text": [
      "C:\\Users\\user\\AppData\\Local\\Temp\\ipykernel_18072\\2534017090.py:12: SettingWithCopyWarning: \n",
      "A value is trying to be set on a copy of a slice from a DataFrame\n",
      "\n",
      "See the caveats in the documentation: https://pandas.pydata.org/pandas-docs/stable/user_guide/indexing.html#returning-a-view-versus-a-copy\n",
      "  dataset_pd.drop(['jobId', 'companyId',\n",
      "C:\\Users\\user\\AppData\\Local\\Temp\\ipykernel_18072\\2534017090.py:54: SettingWithCopyWarning: \n",
      "A value is trying to be set on a copy of a slice from a DataFrame.\n",
      "Try using .loc[row_indexer,col_indexer] = value instead\n",
      "\n",
      "See the caveats in the documentation: https://pandas.pydata.org/pandas-docs/stable/user_guide/indexing.html#returning-a-view-versus-a-copy\n",
      "  self.dataset_pd.fillna(self.dataset_pd.mean(), inplace=True)\n"
     ]
    }
   ],
   "source": [
    "first_frame = pd.read_csv('train_dataset.csv')\n",
    "second_frame = pd.read_csv('train_salaries.csv')\n",
    "salary = pd.merge(first_frame, second_frame, on='jobId')\n",
    "\n",
    "correlation = Correlation(salary.iloc[:100000, :])\n",
    "print(correlation)"
   ],
   "metadata": {
    "collapsed": false,
    "pycharm": {
     "name": "#%%\n"
    }
   }
  },
  {
   "cell_type": "code",
   "execution_count": 3,
   "id": "e2c7d544",
   "metadata": {},
   "outputs": [
    {
     "name": "stdout",
     "output_type": "stream",
     "text": [
      "describe: \n",
      "              jobType  yearsExperience         salary\n",
      "count  100000.000000     100000.00000  100000.000000\n",
      "mean        3.502180         11.94206     115.821400\n",
      "std         2.293052          7.20478      38.710017\n",
      "min         0.000000          0.00000       0.000000\n",
      "25%         1.000000          6.00000      88.000000\n",
      "50%         4.000000         12.00000     114.000000\n",
      "75%         6.000000         18.00000     141.000000\n",
      "max         7.000000         24.00000     292.000000\n",
      "<class 'pandas.core.frame.DataFrame'>\n",
      "Int64Index: 100000 entries, 0 to 99999\n",
      "Data columns (total 3 columns):\n",
      " #   Column           Non-Null Count   Dtype\n",
      "---  ------           --------------   -----\n",
      " 0   jobType          100000 non-null  int64\n",
      " 1   yearsExperience  100000 non-null  int64\n",
      " 2   salary           100000 non-null  int64\n",
      "dtypes: int64(3)\n",
      "memory usage: 3.1 MB\n",
      "\n",
      "Info: \n",
      " None\n",
      "\n",
      "Is null: \n",
      " False\n"
     ]
    }
   ],
   "source": [
    "# analiza danych statystycznych\n",
    "correlation.data_statistic()"
   ]
  },
  {
   "cell_type": "code",
   "execution_count": 4,
   "id": "dfaf5b84",
   "metadata": {},
   "outputs": [
    {
     "data": {
      "text/plain": "<Figure size 432x288 with 1 Axes>",
      "image/png": "[encoded data removed]"
     },
     "metadata": {
      "needs_background": "light"
     },
     "output_type": "display_data"
    }
   ],
   "source": [
    "# rozkład\n",
    "correlation.data_histogram()"
   ]
  },
  {
   "cell_type": "code",
   "execution_count": 5,
   "id": "b71db296",
   "metadata": {},
   "outputs": [
    {
     "name": "stdout",
     "output_type": "stream",
     "text": [
      "\n",
      "rozkład danych:\n",
      "\n"
     ]
    },
    {
     "data": {
      "text/plain": "<Figure size 432x288 with 1 Axes>",
      "image/png": "[encoded data removed]"
     },
     "metadata": {
      "needs_background": "light"
     },
     "output_type": "display_data"
    }
   ],
   "source": [
    "# rozkład\n",
    "correlation.plot_data()"
   ]
  },
  {
   "cell_type": "code",
   "execution_count": 6,
   "outputs": [
    {
     "data": {
      "text/plain": "<Figure size 432x288 with 1 Axes>",
      "image/png": "[encoded data removed]"
     },
     "metadata": {
      "needs_background": "light"
     },
     "output_type": "display_data"
    }
   ],
   "source": [
    "# rozkład kde\n",
    "correlation.plot_kde()"
   ],
   "metadata": {
    "collapsed": false,
    "pycharm": {
     "name": "#%%\n"
    }
   }
  },
  {
   "cell_type": "code",
   "execution_count": 7,
   "id": "cecb2e2e",
   "metadata": {},
   "outputs": [
    {
     "data": {
      "text/plain": "<Figure size 720x720 with 2 Axes>",
      "image/png": "[encoded data removed]"
     },
     "metadata": {
      "needs_background": "light"
     },
     "output_type": "display_data"
    }
   ],
   "source": [
    "# wyznaczenie macierzy korelacji\n",
    "correlation.matrix()"
   ]
  },
  {
   "cell_type": "code",
   "execution_count": 8,
   "id": "23bed1fe",
   "metadata": {
    "pycharm": {
     "name": "#%%\n"
    }
   },
   "outputs": [
    {
     "name": "stdout",
     "output_type": "stream",
     "text": [
      "LR:  [0.5255349500713267, 0.6538871139510117, 0.5827269851312876, 0.7362]\n",
      "SVM [0.5701854493580599, 0.6874785001719986, 0.6233624454148472, 0.7585]\n",
      "RF:  [0.6062767475035663, 0.7605583392984968, 0.6747102714716622, 0.7951]\n",
      "DT:  [0.608416547788873, 0.7633792733130481, 0.6771453520679526, 0.79665]\n",
      "neural network [0.6604850213980028, 0.7243429286608261, 0.6909416504999253, 0.7929]\n"
     ]
    },
    {
     "data": {
      "text/plain": "<Figure size 432x288 with 1 Axes>",
      "image/png": "[encoded data removed]"
     },
     "metadata": {
      "needs_background": "light"
     },
     "output_type": "display_data"
    }
   ],
   "source": [
    "correlation.models()"
   ]
  },
  {
   "cell_type": "code",
   "execution_count": 9,
   "outputs": [
    {
     "name": "stdout",
     "output_type": "stream",
     "text": [
      "SVM gamma='auto' [0.600713266761769, 0.7677301731996353, 0.6740296118447379, 0.79635]\n",
      "SVM kernel='sigmoid' [0.33437945791726104, 0.32569126024732525, 0.3299781797705356, 0.52405]\n",
      "SVM degree=4 [0.5701854493580599, 0.6874785001719986, 0.6233624454148472, 0.7585]\n"
     ]
    }
   ],
   "source": [
    "correlation.correcting()"
   ],
   "metadata": {
    "collapsed": false,
    "pycharm": {
     "name": "#%%\n"
    }
   }
  },
  {
   "cell_type": "code",
   "execution_count": null,
   "outputs": [],
   "source": [],
   "metadata": {
    "collapsed": false,
    "pycharm": {
     "name": "#%%\n"
    }
   }
  }
 ],
 "metadata": {
  "kernelspec": {
   "display_name": "Python 3 (ipykernel)",
   "language": "python",
   "name": "python3"
  },
  "language_info": {
   "codemirror_mode": {
    "name": "ipython",
    "version": 3
   },
   "file_extension": ".py",
   "mimetype": "text/x-python",
   "name": "python",
   "nbconvert_exporter": "python",
   "pygments_lexer": "ipython3",
   "version": "3.9.7"
  }
 },
 "nbformat": 4,
 "nbformat_minor": 5
}